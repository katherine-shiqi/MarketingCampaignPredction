{
 "cells": [
  {
   "cell_type": "markdown",
   "metadata": {},
   "source": [
    "# 0. Import Data and Define Functions"
   ]
  },
  {
   "cell_type": "code",
   "execution_count": 1,
   "metadata": {
    "collapsed": false
   },
   "outputs": [],
   "source": [
    "import pandas as pd\n",
    "import numpy as np\n",
    "import pickle\n",
    "\n",
    "from sklearn.model_selection import GridSearchCV\n",
    "from sklearn import metrics\n",
    "from sklearn.model_selection import cross_val_score\n",
    "from sklearn.model_selection import train_test_split\n",
    "from imblearn.over_sampling import SMOTE\n",
    "\n",
    "from sklearn.linear_model import LinearRegression\n",
    "from sklearn.linear_model import LogisticRegression\n",
    "from sklearn.ensemble import RandomForestClassifier\n",
    "from sklearn.svm import LinearSVC\n",
    "from sklearn.svm import SVC\n",
    "from sklearn.neural_network import MLPClassifier\n",
    "from sklearn.ensemble import GradientBoostingClassifier\n",
    "# from xgboost import XGBClassifier\n",
    "\n",
    "from tabulate import tabulate\n",
    "import json\n",
    "import matplotlib.pyplot as plt\n",
    "%matplotlib inline\n",
    "import warnings\n",
    "warnings.filterwarnings(\"ignore\")"
   ]
  },
  {
   "cell_type": "code",
   "execution_count": 2,
   "metadata": {
    "collapsed": false
   },
   "outputs": [
    {
     "name": "stdout",
     "output_type": "stream",
     "text": [
      "training data shape: (7414, 22)\n",
      "testing data shape: (824, 22)\n"
     ]
    }
   ],
   "source": [
    "df_train = pd.read_csv(\"marketing_training.csv\")\n",
    "df_test = pd.read_csv(\"marketing_test.csv\")\n",
    "print('training data shape:', df_train.shape)\n",
    "print('testing data shape:', df_test.shape)"
   ]
  },
  {
   "cell_type": "code",
   "execution_count": 3,
   "metadata": {
    "collapsed": true
   },
   "outputs": [],
   "source": [
    "# define a function to replace the categorical variable with dummy variables (one-hot encoding)\n",
    "# e.g column 'gender' = female --> column 'female' = 1 \n",
    "def Category2Dummy(df, feature):\n",
    "    dummy = pd.get_dummies(df[feature])\n",
    "    dummy.columns = [feature + '_' +str(x) for x in dummy.columns]\n",
    "    dummy.drop(dummy.columns[len(dummy.columns)-1], axis=1, inplace=True)\n",
    "    df = pd.concat([df, dummy], axis=1)\n",
    "    return df\n",
    "\n",
    "def Category2Numeric(x, Map):\n",
    "    if x in Map:\n",
    "        return Map[x]\n",
    "    \n",
    "def Numeric2Category(x,Map):\n",
    "    for i, item in Map.items():\n",
    "        if x==item:\n",
    "            return(i)\n",
    "\n",
    "# impute the missing values: (dataframe, model, columns for imputation, target column with missing values)\n",
    "def Impute(df, model, column, target):\n",
    "    for i, row in df[df[target].isnull()].iterrows():\n",
    "        df.ix[i, target] = model.predict(row[column].reshape(1, -1))\n",
    "    return df"
   ]
  },
  {
   "cell_type": "markdown",
   "metadata": {},
   "source": [
    "# 1. Data Preprocessing\n",
    "###    *Missing Value Imputation\n",
    "###    *Categorical into Dummy Variables\n",
    "###    *Handle the imbalance Problem"
   ]
  },
  {
   "cell_type": "code",
   "execution_count": 4,
   "metadata": {
    "collapsed": false
   },
   "outputs": [
    {
     "data": {
      "text/plain": [
       "custAge           1804\n",
       "profession           0\n",
       "marital              0\n",
       "schooling         2155\n",
       "default              0\n",
       "housing              0\n",
       "loan                 0\n",
       "contact              0\n",
       "month                0\n",
       "day_of_week        711\n",
       "campaign             0\n",
       "pdays                0\n",
       "previous             0\n",
       "poutcome             0\n",
       "emp.var.rate         0\n",
       "cons.price.idx       0\n",
       "cons.conf.idx        0\n",
       "euribor3m            0\n",
       "nr.employed          0\n",
       "pmonths              0\n",
       "pastEmail            0\n",
       "responded            0\n",
       "dtype: int64"
      ]
     },
     "execution_count": 4,
     "metadata": {},
     "output_type": "execute_result"
    }
   ],
   "source": [
    "df_train.isnull().sum() # missing values: 'custAge','profession','marital'"
   ]
  },
  {
   "cell_type": "markdown",
   "metadata": {},
   "source": [
    "##### Typically three ways to deal with missing value. Here I implemented the first method, since it can better capture the correlation between variables.\n",
    "    1.Imputation with prediction method (tree-based method, KNN, Logistic Regression, etc.)\n",
    "    2.Imputation with mean/mode \n",
    "    3.Removing the missing rows "
   ]
  },
  {
   "cell_type": "markdown",
   "metadata": {},
   "source": [
    "Therefore, we need to transform categorical variables into dummy variables to predict missing values"
   ]
  },
  {
   "cell_type": "markdown",
   "metadata": {},
   "source": [
    "#### 1.1 Transform categorical into dummy variables"
   ]
  },
  {
   "cell_type": "code",
   "execution_count": 5,
   "metadata": {
    "collapsed": false
   },
   "outputs": [],
   "source": [
    "categorylist = df_train.dtypes[df_train.dtypes.values=='O'].index.tolist() # get categorical column names\n",
    "categorylist.remove('schooling') #remove columns needed to be predicted (missing values)\n",
    "categorylist.remove('day_of_week')\n",
    "categorylist.remove('responded') #remove y column - deal with this later\n",
    "# ['profession', 'marital', 'default', 'housing', 'loan', 'contact', 'month', 'poutcome']\n",
    "\n",
    "for item in categorylist: # change them into dummy columns\n",
    "    df_train = Category2Dummy(df_train,item) \n",
    "df_train = df_train.drop(categorylist, axis = 1) # remove original categorical columns\n",
    "\n",
    "# To predict missing values based on columns in the imputationlist \n",
    "imputationlist = [x for x in df_train.columns if (x != 'custAge') and (x != 'responded') and (x != 'schooling') and (x != 'day_of_week')]"
   ]
  },
  {
   "cell_type": "markdown",
   "metadata": {},
   "source": [
    "#### 1.2 'custAge' imputation --Linear Regression for continuous variable"
   ]
  },
  {
   "cell_type": "code",
   "execution_count": 6,
   "metadata": {
    "collapsed": false
   },
   "outputs": [
    {
     "name": "stdout",
     "output_type": "stream",
     "text": [
      "negative mean square error =  -66.8542760912\n"
     ]
    }
   ],
   "source": [
    "lr = LinearRegression()\n",
    "train = df_train[~df_train['custAge'].isnull()]\n",
    "score = np.mean(cross_val_score(lr, train[imputationlist], train['custAge'], cv=6, scoring = 'neg_mean_squared_error'))\n",
    "print('negative mean square error = ', score) # cross validation to calculate the score\n",
    "lr.fit(train[imputationlist], train['custAge']) # use imputation columns to predict the 'custAge' column\n",
    "df_train = Impute(df_train, lr, imputationlist, 'custAge')"
   ]
  },
  {
   "cell_type": "markdown",
   "metadata": {},
   "source": [
    "#### 1.3 'schooling' imputation --Logistic Regression for categorical variable"
   ]
  },
  {
   "cell_type": "code",
   "execution_count": 7,
   "metadata": {
    "collapsed": false
   },
   "outputs": [],
   "source": [
    "# Turn categorical into numerical variables\n",
    "Map_schooling,i = {},0\n",
    "for item in df_train['schooling'].value_counts().index:\n",
    "    Map_schooling[item] = i\n",
    "    i += 1\n",
    "\n",
    "df_train['schooling'] = df_train['schooling'].apply(lambda x: Category2Numeric(x,Map_schooling))"
   ]
  },
  {
   "cell_type": "code",
   "execution_count": 8,
   "metadata": {
    "collapsed": false,
    "scrolled": true
   },
   "outputs": [
    {
     "name": "stdout",
     "output_type": "stream",
     "text": [
      "accuracy =  0.49060222463\n"
     ]
    }
   ],
   "source": [
    "lg = LogisticRegression()\n",
    "train = df_train[~df_train['schooling'].isnull()]\n",
    "score = np.mean(cross_val_score(lg, train[imputationlist], train['schooling'], cv=6, scoring = 'accuracy'))\n",
    "print('accuracy = ', score)\n",
    "lg = LogisticRegression().fit(train[imputationlist], train['schooling'])\n",
    "df_train = Impute(df_train, lg, imputationlist, 'schooling')\n",
    "\n",
    "# Turn numerical variables back to categorical variables\n",
    "df_train['schooling'] = df_train['schooling'].apply(lambda x: Numeric2Category(x,Map_schooling))"
   ]
  },
  {
   "cell_type": "markdown",
   "metadata": {},
   "source": [
    "#### 1.4 'day_of_week' imputation --Random Forest for categorical variable"
   ]
  },
  {
   "cell_type": "code",
   "execution_count": 9,
   "metadata": {
    "collapsed": true
   },
   "outputs": [],
   "source": [
    "# Turn categorical into numerical variables\n",
    "Map_day,i = {},0\n",
    "for item in df_train['day_of_week'].value_counts().index:\n",
    "    Map_day[item] = i\n",
    "    i += 1\n",
    "\n",
    "df_train['day_of_week'] = df_train['day_of_week'].apply(lambda x: Category2Numeric(x,Map_day))"
   ]
  },
  {
   "cell_type": "code",
   "execution_count": 10,
   "metadata": {
    "collapsed": false
   },
   "outputs": [
    {
     "name": "stdout",
     "output_type": "stream",
     "text": [
      "accuracy =  0.527075927632\n"
     ]
    }
   ],
   "source": [
    "rf = RandomForestClassifier(n_estimators=200)\n",
    "train = df_train[~df_train['day_of_week'].isnull()]\n",
    "score = np.mean(cross_val_score(rf, train[imputationlist], train['day_of_week'], cv=6, scoring = 'accuracy'))\n",
    "print('accuracy = ', score)\n",
    "rf.fit(train[imputationlist], train['day_of_week'])\n",
    "df_train = Impute(df_train, rf, imputationlist, 'day_of_week')\n",
    "# Turn numerical variables back to categorical variables\n",
    "df_train['day_of_week'] = df_train['day_of_week'].apply(lambda x: Numeric2Category(x,Map_day))"
   ]
  },
  {
   "cell_type": "markdown",
   "metadata": {},
   "source": [
    "#### 1.5 Save imputation models and features"
   ]
  },
  {
   "cell_type": "code",
   "execution_count": 11,
   "metadata": {
    "collapsed": false
   },
   "outputs": [],
   "source": [
    "# save the imputation models for testing data preprocessing\n",
    "with open(\"custAge.pkl\", \"wb\") as fid:\n",
    "    pickle.dump(lr, fid)\n",
    "    fid.close()\n",
    "with open(\"schooling.pkl\", \"wb\") as fid:\n",
    "    pickle.dump(lg, fid)\n",
    "    fid.close()\n",
    "with open(\"day_of_week.pkl\", \"wb\") as fid:\n",
    "    pickle.dump(rf, fid)\n",
    "    fid.close()"
   ]
  },
  {
   "cell_type": "markdown",
   "metadata": {},
   "source": [
    "#### 1.6 Transform the remaining categorical and target variables into dummy variables"
   ]
  },
  {
   "cell_type": "code",
   "execution_count": 12,
   "metadata": {
    "collapsed": true
   },
   "outputs": [],
   "source": [
    "# Convert into dummy variables\n",
    "remain_categorylist = ['schooling', 'day_of_week']\n",
    "for item in remain_categorylist:\n",
    "    df_train = Category2Dummy(df_train, item)\n",
    "df_train = df_train.drop(remain_categorylist, axis = 1)\n",
    "\n",
    "# Convert target variable into binary variable\n",
    "# no => 0, yes => 1\n",
    "df_train.ix[df_train.responded == 'no', 'responded'] = 0\n",
    "df_train.ix[df_train.responded == 'yes', 'responded'] = 1"
   ]
  },
  {
   "cell_type": "markdown",
   "metadata": {},
   "source": [
    "#### 1.7 Handle the imbalance problem (SMOTE+AUC matrix)"
   ]
  },
  {
   "cell_type": "code",
   "execution_count": 13,
   "metadata": {
    "collapsed": false
   },
   "outputs": [
    {
     "name": "stdout",
     "output_type": "stream",
     "text": [
      "0    6574\n",
      "1     840\n",
      "Name: responded, dtype: int64\n",
      "# of responed= 6574\n",
      "# of non-responed= 6574\n"
     ]
    }
   ],
   "source": [
    "print(df_train.responded.value_counts()) \n",
    "# our dataset has serious imbalance problem, non-responded/responded = 7.83\n",
    "# Solution: 1. Over/Under Sampling- SMOTE 2.AUC matrix which is insensitive to imbalance\n",
    "train_x = df_train.ix[:, df_train.columns != 'responded']\n",
    "train_y = df_train['responded'].tolist()\n",
    "sm = SMOTE(random_state=12, ratio = 1.0) # set it to 1:1\n",
    "train_x_sm, train_y_sm = sm.fit_sample(train_x, train_y)\n",
    "print ('# of responed=',np.bincount(train_y_sm.astype(int))[0])\n",
    "print ('# of non-responed=',np.bincount(train_y_sm.astype(int))[1])"
   ]
  },
  {
   "cell_type": "code",
   "execution_count": 14,
   "metadata": {
    "collapsed": false
   },
   "outputs": [],
   "source": [
    "# save important features for testing data preprocessing\n",
    "predictors = [x for x in df_train.columns if x != 'responded']\n",
    "FeatureDict = {'categorylist': categorylist, 'imputationlist': imputationlist,'predictors':predictors , 'Map_schooling': Map_schooling, 'Map_day': Map_day}\n",
    "with open('FeatureDict.json', 'w') as f:\n",
    "    json.dump(FeatureDict, f)"
   ]
  },
  {
   "cell_type": "markdown",
   "metadata": {},
   "source": [
    "# 2. Model Building"
   ]
  },
  {
   "cell_type": "code",
   "execution_count": 15,
   "metadata": {
    "collapsed": true
   },
   "outputs": [],
   "source": [
    "#Compare several algorithms\n",
    "#Logistic Regression, Random Forest, Support Vector Machine(Linear and Non-Linear), gradient boosting\n",
    "lg = LogisticRegression()\n",
    "rf = RandomForestClassifier()\n",
    "svc = LinearSVC()\n",
    "svcRad = SVC()\n",
    "gb = GradientBoostingClassifier()"
   ]
  },
  {
   "cell_type": "markdown",
   "metadata": {},
   "source": [
    "### 2.1 Tune hyper parameters based on the AUC matrix"
   ]
  },
  {
   "cell_type": "markdown",
   "metadata": {},
   "source": [
    "#### (a) Random Forest  [n_estimators=238]"
   ]
  },
  {
   "cell_type": "code",
   "execution_count": 303,
   "metadata": {
    "collapsed": false
   },
   "outputs": [
    {
     "name": "stdout",
     "output_type": "stream",
     "text": [
      "best n_estimators =  RandomForestClassifier(bootstrap=True, class_weight=None, criterion='gini',\n",
      "            max_depth=None, max_features='auto', max_leaf_nodes=None,\n",
      "            min_impurity_split=1e-07, min_samples_leaf=1,\n",
      "            min_samples_split=2, min_weight_fraction_leaf=0.0,\n",
      "            n_estimators=238, n_jobs=1, oob_score=False, random_state=None,\n",
      "            verbose=0, warm_start=False)\n"
     ]
    }
   ],
   "source": [
    "Estimators = np.linspace(10, 300, 20)\n",
    "Estimators = [int(item) for item in Estimators]\n",
    "rf_est = GridSearchCV(rf, {'n_estimators': Estimators}, scoring = 'roc_auc')\n",
    "rf_est.fit(train_x_sm, train_y_sm)\n",
    "print('best n_estimators = ', rf_est.best_estimator_)"
   ]
  },
  {
   "cell_type": "markdown",
   "metadata": {},
   "source": [
    "#### (b) Linear SVM  [C=0.01], SVM with rbf kernel [C=100]"
   ]
  },
  {
   "cell_type": "code",
   "execution_count": 299,
   "metadata": {
    "collapsed": false
   },
   "outputs": [
    {
     "name": "stdout",
     "output_type": "stream",
     "text": [
      "Linear SVM, C =  LinearSVC(C=0.01, class_weight=None, dual=True, fit_intercept=True,\n",
      "     intercept_scaling=1, loss='squared_hinge', max_iter=1000,\n",
      "     multi_class='ovr', penalty='l2', random_state=None, tol=0.0001,\n",
      "     verbose=0)\n",
      "SVM with rbf kernel, C = SVC(C=100, cache_size=200, class_weight=None, coef0=0.0,\n",
      "  decision_function_shape=None, degree=3, gamma='auto', kernel='rbf',\n",
      "  max_iter=-1, probability=False, random_state=None, shrinking=True,\n",
      "  tol=0.001, verbose=False)\n"
     ]
    }
   ],
   "source": [
    "1\n",
    "svc_c = GridSearchCV(svc, {'C': Estimators}, scoring = 'roc_auc')\n",
    "svcRad_c = GridSearchCV(svcRad, {'C': Estimators}, scoring = 'roc_auc')\n",
    "svc_c.fit(train_x_sm, train_y_sm)\n",
    "svcRad_c.fit(train_x_sm, train_y_sm)\n",
    "print ('Linear SVM, C = ', svc_c.best_estimator_)\n",
    "print ('SVM with rbf kernel, C =', svcRad_c.best_estimator_)"
   ]
  },
  {
   "cell_type": "markdown",
   "metadata": {},
   "source": [
    "#### (c) Gradient Boosting [n_estimators=80, learning rate=0.2]"
   ]
  },
  {
   "cell_type": "code",
   "execution_count": 300,
   "metadata": {
    "collapsed": false
   },
   "outputs": [
    {
     "name": "stdout",
     "output_type": "stream",
     "text": [
      "best n_estimators, learning rate =  GradientBoostingClassifier(criterion='friedman_mse', init=None,\n",
      "              learning_rate=0.20000000000000001, loss='deviance',\n",
      "              max_depth=3, max_features=None, max_leaf_nodes=None,\n",
      "              min_impurity_split=1e-07, min_samples_leaf=1,\n",
      "              min_samples_split=2, min_weight_fraction_leaf=0.0,\n",
      "              n_estimators=80, presort='auto', random_state=None,\n",
      "              subsample=1.0, verbose=0, warm_start=False)\n"
     ]
    }
   ],
   "source": [
    "Estimators = np.linspace(10, 200, 20)\n",
    "Estimators = [int(item) for item in Estimators]\n",
    "LearningRate = np.linspace(0.1, 1, 10)\n",
    "gb_best = GridSearchCV(gb, {'n_estimators': Estimators, 'learning_rate': LearningRate}, scoring = 'roc_auc')\n",
    "gb_best.fit(train_x_sm, train_y_sm)\n",
    "print('best n_estimators, learning rate = ', gb_best.best_estimator_)"
   ]
  },
  {
   "cell_type": "markdown",
   "metadata": {},
   "source": [
    "### 2.2 Model Comparison \n",
    "    Select a model with the highest AUC by running K fold cross validation (K=6)"
   ]
  },
  {
   "cell_type": "code",
   "execution_count": 304,
   "metadata": {
    "collapsed": true
   },
   "outputs": [],
   "source": [
    "#Logistic Regression, Random Forest, Support Vector Machine(Linear and Non-Linear), gradient boosting\n",
    "lg = LogisticRegression()\n",
    "rf = RandomForestClassifier(n_estimators = 238)\n",
    "svc = LinearSVC(C = 0.01)\n",
    "svcRad = SVC(C = 100)\n",
    "gb = GradientBoostingClassifier(n_estimators=80 ,learning_rate= 0.2)"
   ]
  },
  {
   "cell_type": "code",
   "execution_count": 305,
   "metadata": {
    "collapsed": false
   },
   "outputs": [
    {
     "name": "stdout",
     "output_type": "stream",
     "text": [
      "Logistic Regression average AUC =  0.819198898225\n",
      "Random Forest average AUC =  0.987625310959\n",
      "Linear SVM average AUC =  0.780516023885\n",
      "SVM with RBF kernel average AUC =  0.976134548457\n",
      "Gradient Boosting average AUC =  0.972325787384\n"
     ]
    }
   ],
   "source": [
    "# model selection \n",
    "lgScore = cross_val_score(lg, train_x_sm, train_y_sm, cv=6, scoring = 'roc_auc')\n",
    "rfScore = cross_val_score(rf, train_x_sm, train_y_sm, cv=6, scoring = 'roc_auc')\n",
    "svcScore = cross_val_score(svc, train_x_sm, train_y_sm, cv=6, scoring = 'roc_auc')\n",
    "svcRadScore = cross_val_score(svcRad, train_x_sm, train_y_sm, cv=6, scoring = 'roc_auc')\n",
    "gbScore = cross_val_score(gb, train_x_sm, train_y_sm, cv=6, scoring = 'roc_auc')\n",
    "\n",
    "print('Logistic Regression average AUC = ', np.mean(lgScore))\n",
    "print('Random Forest average AUC = ', np.mean(rfScore))\n",
    "print('Linear SVM average AUC = ', np.mean(svcScore))\n",
    "print('SVM with RBF kernel average AUC = ', np.mean(svcRadScore))\n",
    "print('Gradient Boosting average AUC = ', np.mean(gbScore))"
   ]
  },
  {
   "cell_type": "markdown",
   "metadata": {},
   "source": [
    "### Final Model: Random Forest with AUC = 0.9876"
   ]
  },
  {
   "cell_type": "markdown",
   "metadata": {},
   "source": [
    "### 2.3 Final Model Training"
   ]
  },
  {
   "cell_type": "code",
   "execution_count": 17,
   "metadata": {
    "collapsed": true
   },
   "outputs": [],
   "source": [
    "# build our final model and save is as pickle file for predicting testing dataset \n",
    "rf = RandomForestClassifier(n_estimators = 238)\n",
    "rf.fit(train_x_sm, train_y_sm)\n",
    "\n",
    "with open('Final_Model.pkl','wb') as fid:\n",
    "    pickle.dump(rf, fid)\n",
    "    fid.close()"
   ]
  },
  {
   "cell_type": "code",
   "execution_count": 19,
   "metadata": {
    "collapsed": false
   },
   "outputs": [
    {
     "name": "stdout",
     "output_type": "stream",
     "text": [
      "name                             score\n",
      "euribor3m                    0.0949023\n",
      "nr.employed                  0.0588953\n",
      "housing_no                   0.0536977\n",
      "custAge                      0.0497186\n",
      "emp.var.rate                 0.0486179\n",
      "contact_cellular             0.0377063\n",
      "campaign                     0.0359795\n",
      "day_of_week_mon              0.0352473\n",
      "schooling_university.degree  0.0342015\n",
      "profession_admin.            0.0323301\n",
      "day_of_week_fri              0.0280962\n",
      "profession_blue-collar       0.0279946\n",
      "schooling_high.school        0.0247216\n",
      "cons.conf.idx                0.0240825\n",
      "day_of_week_tue              0.0228869\n"
     ]
    }
   ],
   "source": [
    "headers = [\"name\", \"score\"]\n",
    "values = sorted(zip(predictors, rf.feature_importances_), key=lambda x: x[1] * -1)\n",
    "values = values[0:15] #top 15\n",
    "print(tabulate(values, headers, tablefmt=\"plain\"))"
   ]
  },
  {
   "cell_type": "code",
   "execution_count": 20,
   "metadata": {
    "collapsed": false
   },
   "outputs": [
    {
     "data": {
      "image/png": "[encoded data removed]",
      "text/plain": [
       "<matplotlib.figure.Figure at 0x11d305a58>"
      ]
     },
     "metadata": {},
     "output_type": "display_data"
    }
   ],
   "source": [
    "plt.figure()\n",
    "plt.title(\"Figure - Feature Importance Top 15\")\n",
    "plt.bar(np.linspace(1, len(values), len(values)), [x[1] for x in values], color=\"b\")\n",
    "plt.xticks(np.linspace(1, len(values), len(values)), [x[0] for x in values], rotation='vertical')\n",
    "plt.grid(True)"
   ]
  },
  {
   "cell_type": "markdown",
   "metadata": {},
   "source": [
    "# 3. Make Prediction for Testing dataset"
   ]
  },
  {
   "cell_type": "code",
   "execution_count": 21,
   "metadata": {
    "collapsed": false
   },
   "outputs": [
    {
     "data": {
      "text/plain": [
       "id                  0\n",
       "custAge           210\n",
       "profession          0\n",
       "marital             0\n",
       "schooling         251\n",
       "default             0\n",
       "housing             0\n",
       "loan                0\n",
       "contact             0\n",
       "month               0\n",
       "day_of_week        76\n",
       "campaign            0\n",
       "pdays               0\n",
       "previous            0\n",
       "poutcome            0\n",
       "emp.var.rate        0\n",
       "cons.price.idx      0\n",
       "cons.conf.idx       0\n",
       "euribor3m           0\n",
       "nr.employed         0\n",
       "pmonths             0\n",
       "pastEmail           0\n",
       "dtype: int64"
      ]
     },
     "execution_count": 21,
     "metadata": {},
     "output_type": "execute_result"
    }
   ],
   "source": [
    "df_test = pd.read_csv(\"marketing_test.csv\")\n",
    "df_test=df_test.rename(columns = {df_test.columns[0]:'id'})\n",
    "df_test.isnull().sum()"
   ]
  },
  {
   "cell_type": "markdown",
   "metadata": {},
   "source": [
    "### 3.1 data preprocessing"
   ]
  },
  {
   "cell_type": "code",
   "execution_count": 22,
   "metadata": {
    "collapsed": false
   },
   "outputs": [],
   "source": [
    "# (1) open imputation model and feature dictionary saved in section 1.5 and 1.7\n",
    "with open(\"custAge.pkl\", \"rb\") as f:\n",
    "    AgeModel = pickle.load(f)\n",
    "with open(\"schooling.pkl\", \"rb\") as f:\n",
    "    SchoolModel = pickle.load(f)\n",
    "with open(\"day_of_week.pkl\", \"rb\") as f:\n",
    "    DayModel = pickle.load(f)\n",
    "with open('FeatureDict.json', 'r') as f: \n",
    "    List = json.load(f)\n",
    "    predictors = List['predictors'] # predictors of final model\n",
    "    categorylist = List['categorylist'] # categorical columns needed to be transformed into dummy\n",
    "    imputationlist =List['imputationlist'] # columns for predicting missing values in those columns\n",
    "    Map_schooling = List['Map_schooling'] # Dictionary to map value to index. For predicting missing values\n",
    "    Map_day = List['Map_day']"
   ]
  },
  {
   "cell_type": "code",
   "execution_count": 23,
   "metadata": {
    "collapsed": false
   },
   "outputs": [],
   "source": [
    "# (2) change categorical columns into dummy columns\n",
    "for item in categorylist: \n",
    "    df_test = Category2Dummy(df_test,item) \n",
    "df_test = df_test.drop(categorylist, axis = 1) # remove original categorical columns"
   ]
  },
  {
   "cell_type": "code",
   "execution_count": 24,
   "metadata": {
    "collapsed": false
   },
   "outputs": [],
   "source": [
    "# (3) missing values imputation\n",
    "\n",
    "# columns in the training set not in the testing set. set them as 0\n",
    "imputationlist2 = [x for x in df_test.columns if (x != 'custAge') and (x != 'responded') and (x != 'schooling') and (x != 'day_of_week')]\n",
    "for column in set(imputationlist) - set(imputationlist2):\n",
    "    df_test[column] = 0\n",
    "    \n",
    "# map category to numeric\n",
    "df_test['day_of_week'] = df_test['day_of_week'].apply(lambda x: Category2Numeric(x, Map_day))\n",
    "df_test['schooling'] = df_test['schooling'].apply(lambda x: Category2Numeric(x, Map_schooling))\n",
    "\n",
    "# predict\n",
    "df_test = Impute(df_test, AgeModel, imputationlist, 'custAge')\n",
    "df_test = Impute(df_test, SchoolModel, imputationlist, 'schooling')\n",
    "df_test = Impute(df_test, DayModel, imputationlist, 'day_of_week')\n",
    "\n",
    "# map numeric to categorical\n",
    "df_test['day_of_week'] = df_test['day_of_week'].apply(lambda x: Numeric2Category(x,Map_day))\n",
    "df_test['schooling'] = df_test['schooling'].apply(lambda x: Numeric2Category(x,Map_schooling))"
   ]
  },
  {
   "cell_type": "code",
   "execution_count": 25,
   "metadata": {
    "collapsed": false
   },
   "outputs": [],
   "source": [
    "# (4) convert remaining categorical columns into dummy columns\n",
    "remain_categorylist = ['schooling', 'day_of_week']\n",
    "for item in remain_categorylist:\n",
    "    df_test = Category2Dummy(df_test, item)\n",
    "df_test = df_test.drop(remain_categorylist, axis = 1)"
   ]
  },
  {
   "cell_type": "markdown",
   "metadata": {},
   "source": [
    "### 3.2 data prediction"
   ]
  },
  {
   "cell_type": "code",
   "execution_count": 26,
   "metadata": {
    "collapsed": false
   },
   "outputs": [],
   "source": [
    "# load the model\n",
    "with open('Final_Model.pkl','rb') as f:\n",
    "        finalmodel = pickle.load(f)      \n",
    "\n",
    "# if columns in training set not in testing, set values as 0\n",
    "predictors1 = df_test.columns.tolist()[1:] # testing dataset columns\n",
    "for column in set(predictors) - set(predictors1):\n",
    "    df_test[column]=0 "
   ]
  },
  {
   "cell_type": "code",
   "execution_count": 27,
   "metadata": {
    "collapsed": false
   },
   "outputs": [
    {
     "data": {
      "text/html": [
       "<div>\n",
       "<style>\n",
       "    .dataframe thead tr:only-child th {\n",
       "        text-align: right;\n",
       "    }\n",
       "\n",
       "    .dataframe thead th {\n",
       "        text-align: left;\n",
       "    }\n",
       "\n",
       "    .dataframe tbody tr th {\n",
       "        vertical-align: top;\n",
       "    }\n",
       "</style>\n",
       "<table border=\"1\" class=\"dataframe\">\n",
       "  <thead>\n",
       "    <tr style=\"text-align: right;\">\n",
       "      <th></th>\n",
       "      <th>id</th>\n",
       "      <th>responded</th>\n",
       "    </tr>\n",
       "  </thead>\n",
       "  <tbody>\n",
       "    <tr>\n",
       "      <th>0</th>\n",
       "      <td>0</td>\n",
       "      <td>0</td>\n",
       "    </tr>\n",
       "    <tr>\n",
       "      <th>1</th>\n",
       "      <td>1</td>\n",
       "      <td>0</td>\n",
       "    </tr>\n",
       "    <tr>\n",
       "      <th>2</th>\n",
       "      <td>2</td>\n",
       "      <td>0</td>\n",
       "    </tr>\n",
       "    <tr>\n",
       "      <th>3</th>\n",
       "      <td>3</td>\n",
       "      <td>0</td>\n",
       "    </tr>\n",
       "    <tr>\n",
       "      <th>4</th>\n",
       "      <td>4</td>\n",
       "      <td>0</td>\n",
       "    </tr>\n",
       "    <tr>\n",
       "      <th>5</th>\n",
       "      <td>5</td>\n",
       "      <td>0</td>\n",
       "    </tr>\n",
       "    <tr>\n",
       "      <th>6</th>\n",
       "      <td>6</td>\n",
       "      <td>0</td>\n",
       "    </tr>\n",
       "    <tr>\n",
       "      <th>7</th>\n",
       "      <td>7</td>\n",
       "      <td>0</td>\n",
       "    </tr>\n",
       "    <tr>\n",
       "      <th>8</th>\n",
       "      <td>8</td>\n",
       "      <td>1</td>\n",
       "    </tr>\n",
       "    <tr>\n",
       "      <th>9</th>\n",
       "      <td>9</td>\n",
       "      <td>0</td>\n",
       "    </tr>\n",
       "    <tr>\n",
       "      <th>10</th>\n",
       "      <td>10</td>\n",
       "      <td>0</td>\n",
       "    </tr>\n",
       "    <tr>\n",
       "      <th>11</th>\n",
       "      <td>11</td>\n",
       "      <td>0</td>\n",
       "    </tr>\n",
       "    <tr>\n",
       "      <th>12</th>\n",
       "      <td>12</td>\n",
       "      <td>0</td>\n",
       "    </tr>\n",
       "    <tr>\n",
       "      <th>13</th>\n",
       "      <td>13</td>\n",
       "      <td>0</td>\n",
       "    </tr>\n",
       "    <tr>\n",
       "      <th>14</th>\n",
       "      <td>14</td>\n",
       "      <td>0</td>\n",
       "    </tr>\n",
       "    <tr>\n",
       "      <th>15</th>\n",
       "      <td>15</td>\n",
       "      <td>0</td>\n",
       "    </tr>\n",
       "    <tr>\n",
       "      <th>16</th>\n",
       "      <td>16</td>\n",
       "      <td>0</td>\n",
       "    </tr>\n",
       "    <tr>\n",
       "      <th>17</th>\n",
       "      <td>17</td>\n",
       "      <td>0</td>\n",
       "    </tr>\n",
       "    <tr>\n",
       "      <th>18</th>\n",
       "      <td>18</td>\n",
       "      <td>0</td>\n",
       "    </tr>\n",
       "    <tr>\n",
       "      <th>19</th>\n",
       "      <td>19</td>\n",
       "      <td>0</td>\n",
       "    </tr>\n",
       "    <tr>\n",
       "      <th>20</th>\n",
       "      <td>20</td>\n",
       "      <td>0</td>\n",
       "    </tr>\n",
       "    <tr>\n",
       "      <th>21</th>\n",
       "      <td>21</td>\n",
       "      <td>0</td>\n",
       "    </tr>\n",
       "    <tr>\n",
       "      <th>22</th>\n",
       "      <td>22</td>\n",
       "      <td>0</td>\n",
       "    </tr>\n",
       "    <tr>\n",
       "      <th>23</th>\n",
       "      <td>23</td>\n",
       "      <td>0</td>\n",
       "    </tr>\n",
       "    <tr>\n",
       "      <th>24</th>\n",
       "      <td>24</td>\n",
       "      <td>0</td>\n",
       "    </tr>\n",
       "    <tr>\n",
       "      <th>25</th>\n",
       "      <td>25</td>\n",
       "      <td>0</td>\n",
       "    </tr>\n",
       "    <tr>\n",
       "      <th>26</th>\n",
       "      <td>26</td>\n",
       "      <td>0</td>\n",
       "    </tr>\n",
       "    <tr>\n",
       "      <th>27</th>\n",
       "      <td>27</td>\n",
       "      <td>0</td>\n",
       "    </tr>\n",
       "    <tr>\n",
       "      <th>28</th>\n",
       "      <td>28</td>\n",
       "      <td>0</td>\n",
       "    </tr>\n",
       "    <tr>\n",
       "      <th>29</th>\n",
       "      <td>29</td>\n",
       "      <td>1</td>\n",
       "    </tr>\n",
       "    <tr>\n",
       "      <th>...</th>\n",
       "      <td>...</td>\n",
       "      <td>...</td>\n",
       "    </tr>\n",
       "    <tr>\n",
       "      <th>794</th>\n",
       "      <td>794</td>\n",
       "      <td>0</td>\n",
       "    </tr>\n",
       "    <tr>\n",
       "      <th>795</th>\n",
       "      <td>795</td>\n",
       "      <td>0</td>\n",
       "    </tr>\n",
       "    <tr>\n",
       "      <th>796</th>\n",
       "      <td>796</td>\n",
       "      <td>0</td>\n",
       "    </tr>\n",
       "    <tr>\n",
       "      <th>797</th>\n",
       "      <td>797</td>\n",
       "      <td>0</td>\n",
       "    </tr>\n",
       "    <tr>\n",
       "      <th>798</th>\n",
       "      <td>798</td>\n",
       "      <td>0</td>\n",
       "    </tr>\n",
       "    <tr>\n",
       "      <th>799</th>\n",
       "      <td>799</td>\n",
       "      <td>0</td>\n",
       "    </tr>\n",
       "    <tr>\n",
       "      <th>800</th>\n",
       "      <td>800</td>\n",
       "      <td>0</td>\n",
       "    </tr>\n",
       "    <tr>\n",
       "      <th>801</th>\n",
       "      <td>801</td>\n",
       "      <td>0</td>\n",
       "    </tr>\n",
       "    <tr>\n",
       "      <th>802</th>\n",
       "      <td>802</td>\n",
       "      <td>0</td>\n",
       "    </tr>\n",
       "    <tr>\n",
       "      <th>803</th>\n",
       "      <td>803</td>\n",
       "      <td>1</td>\n",
       "    </tr>\n",
       "    <tr>\n",
       "      <th>804</th>\n",
       "      <td>804</td>\n",
       "      <td>0</td>\n",
       "    </tr>\n",
       "    <tr>\n",
       "      <th>805</th>\n",
       "      <td>805</td>\n",
       "      <td>0</td>\n",
       "    </tr>\n",
       "    <tr>\n",
       "      <th>806</th>\n",
       "      <td>806</td>\n",
       "      <td>0</td>\n",
       "    </tr>\n",
       "    <tr>\n",
       "      <th>807</th>\n",
       "      <td>807</td>\n",
       "      <td>0</td>\n",
       "    </tr>\n",
       "    <tr>\n",
       "      <th>808</th>\n",
       "      <td>808</td>\n",
       "      <td>0</td>\n",
       "    </tr>\n",
       "    <tr>\n",
       "      <th>809</th>\n",
       "      <td>809</td>\n",
       "      <td>0</td>\n",
       "    </tr>\n",
       "    <tr>\n",
       "      <th>810</th>\n",
       "      <td>810</td>\n",
       "      <td>0</td>\n",
       "    </tr>\n",
       "    <tr>\n",
       "      <th>811</th>\n",
       "      <td>811</td>\n",
       "      <td>0</td>\n",
       "    </tr>\n",
       "    <tr>\n",
       "      <th>812</th>\n",
       "      <td>812</td>\n",
       "      <td>0</td>\n",
       "    </tr>\n",
       "    <tr>\n",
       "      <th>813</th>\n",
       "      <td>813</td>\n",
       "      <td>0</td>\n",
       "    </tr>\n",
       "    <tr>\n",
       "      <th>814</th>\n",
       "      <td>814</td>\n",
       "      <td>0</td>\n",
       "    </tr>\n",
       "    <tr>\n",
       "      <th>815</th>\n",
       "      <td>815</td>\n",
       "      <td>0</td>\n",
       "    </tr>\n",
       "    <tr>\n",
       "      <th>816</th>\n",
       "      <td>816</td>\n",
       "      <td>0</td>\n",
       "    </tr>\n",
       "    <tr>\n",
       "      <th>817</th>\n",
       "      <td>817</td>\n",
       "      <td>0</td>\n",
       "    </tr>\n",
       "    <tr>\n",
       "      <th>818</th>\n",
       "      <td>818</td>\n",
       "      <td>0</td>\n",
       "    </tr>\n",
       "    <tr>\n",
       "      <th>819</th>\n",
       "      <td>819</td>\n",
       "      <td>0</td>\n",
       "    </tr>\n",
       "    <tr>\n",
       "      <th>820</th>\n",
       "      <td>820</td>\n",
       "      <td>0</td>\n",
       "    </tr>\n",
       "    <tr>\n",
       "      <th>821</th>\n",
       "      <td>821</td>\n",
       "      <td>0</td>\n",
       "    </tr>\n",
       "    <tr>\n",
       "      <th>822</th>\n",
       "      <td>822</td>\n",
       "      <td>0</td>\n",
       "    </tr>\n",
       "    <tr>\n",
       "      <th>823</th>\n",
       "      <td>823</td>\n",
       "      <td>0</td>\n",
       "    </tr>\n",
       "  </tbody>\n",
       "</table>\n",
       "<p>824 rows × 2 columns</p>\n",
       "</div>"
      ],
      "text/plain": [
       "      id  responded\n",
       "0      0          0\n",
       "1      1          0\n",
       "2      2          0\n",
       "3      3          0\n",
       "4      4          0\n",
       "5      5          0\n",
       "6      6          0\n",
       "7      7          0\n",
       "8      8          1\n",
       "9      9          0\n",
       "10    10          0\n",
       "11    11          0\n",
       "12    12          0\n",
       "13    13          0\n",
       "14    14          0\n",
       "15    15          0\n",
       "16    16          0\n",
       "17    17          0\n",
       "18    18          0\n",
       "19    19          0\n",
       "20    20          0\n",
       "21    21          0\n",
       "22    22          0\n",
       "23    23          0\n",
       "24    24          0\n",
       "25    25          0\n",
       "26    26          0\n",
       "27    27          0\n",
       "28    28          0\n",
       "29    29          1\n",
       "..   ...        ...\n",
       "794  794          0\n",
       "795  795          0\n",
       "796  796          0\n",
       "797  797          0\n",
       "798  798          0\n",
       "799  799          0\n",
       "800  800          0\n",
       "801  801          0\n",
       "802  802          0\n",
       "803  803          1\n",
       "804  804          0\n",
       "805  805          0\n",
       "806  806          0\n",
       "807  807          0\n",
       "808  808          0\n",
       "809  809          0\n",
       "810  810          0\n",
       "811  811          0\n",
       "812  812          0\n",
       "813  813          0\n",
       "814  814          0\n",
       "815  815          0\n",
       "816  816          0\n",
       "817  817          0\n",
       "818  818          0\n",
       "819  819          0\n",
       "820  820          0\n",
       "821  821          0\n",
       "822  822          0\n",
       "823  823          0\n",
       "\n",
       "[824 rows x 2 columns]"
      ]
     },
     "execution_count": 27,
     "metadata": {},
     "output_type": "execute_result"
    }
   ],
   "source": [
    "# Make prediction and save the model \n",
    "df_test['responded'] = finalmodel.predict(df_test[predictors])\n",
    "df_test[['id','responded']].to_csv(\"test_prediction.csv\")\n",
    "df_test[['id','responded']]"
   ]
  },
  {
   "cell_type": "code",
   "execution_count": 28,
   "metadata": {
    "collapsed": false
   },
   "outputs": [
    {
     "data": {
      "text/plain": [
       "0    779\n",
       "1     45\n",
       "Name: responded, dtype: int64"
      ]
     },
     "execution_count": 28,
     "metadata": {},
     "output_type": "execute_result"
    }
   ],
   "source": [
    "df_test.responded.value_counts()"
   ]
  }
 ],
 "metadata": {
  "kernelspec": {
   "display_name": "Python 3",
   "language": "python",
   "name": "python3"
  },
  "language_info": {
   "codemirror_mode": {
    "name": "ipython",
    "version": 3
   },
   "file_extension": ".py",
   "mimetype": "text/x-python",
   "name": "python",
   "nbconvert_exporter": "python",
   "pygments_lexer": "ipython3",
   "version": "3.6.3"
  }
 },
 "nbformat": 4,
 "nbformat_minor": 2
}
